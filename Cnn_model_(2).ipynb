{
  "cells": [
    {
      "cell_type": "markdown",
      "source": [
        "#Importing and installing the required libraries"
      ],
      "metadata": {
        "id": "pgSi2wNjM-wL"
      },
      "id": "pgSi2wNjM-wL"
    },
    {
      "cell_type": "code",
      "execution_count": 2,
      "id": "d5832160",
      "metadata": {
        "id": "d5832160",
        "outputId": "ee4196cf-8278-446a-f0d6-fb852f637e2f",
        "colab": {
          "base_uri": "https://localhost:8080/"
        }
      },
      "outputs": [
        {
          "output_type": "stream",
          "name": "stdout",
          "text": [
            "Looking in indexes: https://pypi.org/simple, https://us-python.pkg.dev/colab-wheels/public/simple/\n",
            "Requirement already satisfied: opencv-python in /usr/local/lib/python3.7/dist-packages (4.6.0.66)\n",
            "Requirement already satisfied: numpy>=1.14.5 in /usr/local/lib/python3.7/dist-packages (from opencv-python) (1.21.6)\n"
          ]
        }
      ],
      "source": [
        "pip install opencv-python"
      ]
    },
    {
      "cell_type": "code",
      "execution_count": 3,
      "id": "d049a33e",
      "metadata": {
        "id": "d049a33e",
        "outputId": "b013a169-6f71-4b24-9115-fe464af53300",
        "colab": {
          "base_uri": "https://localhost:8080/"
        }
      },
      "outputs": [
        {
          "output_type": "stream",
          "name": "stdout",
          "text": [
            "Looking in indexes: https://pypi.org/simple, https://us-python.pkg.dev/colab-wheels/public/simple/\n",
            "Requirement already satisfied: tensorflow in /usr/local/lib/python3.7/dist-packages (2.8.2+zzzcolab20220719082949)\n",
            "Requirement already satisfied: grpcio<2.0,>=1.24.3 in /usr/local/lib/python3.7/dist-packages (from tensorflow) (1.47.0)\n",
            "Requirement already satisfied: tensorflow-io-gcs-filesystem>=0.23.1 in /usr/local/lib/python3.7/dist-packages (from tensorflow) (0.26.0)\n",
            "Requirement already satisfied: absl-py>=0.4.0 in /usr/local/lib/python3.7/dist-packages (from tensorflow) (1.2.0)\n",
            "Requirement already satisfied: tensorflow-estimator<2.9,>=2.8 in /usr/local/lib/python3.7/dist-packages (from tensorflow) (2.8.0)\n",
            "Requirement already satisfied: protobuf<3.20,>=3.9.2 in /usr/local/lib/python3.7/dist-packages (from tensorflow) (3.17.3)\n",
            "Requirement already satisfied: gast>=0.2.1 in /usr/local/lib/python3.7/dist-packages (from tensorflow) (0.5.3)\n",
            "Requirement already satisfied: keras-preprocessing>=1.1.1 in /usr/local/lib/python3.7/dist-packages (from tensorflow) (1.1.2)\n",
            "Requirement already satisfied: tensorboard<2.9,>=2.8 in /usr/local/lib/python3.7/dist-packages (from tensorflow) (2.8.0)\n",
            "Requirement already satisfied: libclang>=9.0.1 in /usr/local/lib/python3.7/dist-packages (from tensorflow) (14.0.1)\n",
            "Requirement already satisfied: google-pasta>=0.1.1 in /usr/local/lib/python3.7/dist-packages (from tensorflow) (0.2.0)\n",
            "Requirement already satisfied: astunparse>=1.6.0 in /usr/local/lib/python3.7/dist-packages (from tensorflow) (1.6.3)\n",
            "Requirement already satisfied: numpy>=1.20 in /usr/local/lib/python3.7/dist-packages (from tensorflow) (1.21.6)\n",
            "Requirement already satisfied: flatbuffers>=1.12 in /usr/local/lib/python3.7/dist-packages (from tensorflow) (2.0)\n",
            "Requirement already satisfied: six>=1.12.0 in /usr/local/lib/python3.7/dist-packages (from tensorflow) (1.15.0)\n",
            "Requirement already satisfied: setuptools in /usr/local/lib/python3.7/dist-packages (from tensorflow) (57.4.0)\n",
            "Requirement already satisfied: opt-einsum>=2.3.2 in /usr/local/lib/python3.7/dist-packages (from tensorflow) (3.3.0)\n",
            "Requirement already satisfied: wrapt>=1.11.0 in /usr/local/lib/python3.7/dist-packages (from tensorflow) (1.14.1)\n",
            "Requirement already satisfied: typing-extensions>=3.6.6 in /usr/local/lib/python3.7/dist-packages (from tensorflow) (4.1.1)\n",
            "Requirement already satisfied: termcolor>=1.1.0 in /usr/local/lib/python3.7/dist-packages (from tensorflow) (1.1.0)\n",
            "Requirement already satisfied: keras<2.9,>=2.8.0rc0 in /usr/local/lib/python3.7/dist-packages (from tensorflow) (2.8.0)\n",
            "Requirement already satisfied: h5py>=2.9.0 in /usr/local/lib/python3.7/dist-packages (from tensorflow) (3.1.0)\n",
            "Requirement already satisfied: wheel<1.0,>=0.23.0 in /usr/local/lib/python3.7/dist-packages (from astunparse>=1.6.0->tensorflow) (0.37.1)\n",
            "Requirement already satisfied: cached-property in /usr/local/lib/python3.7/dist-packages (from h5py>=2.9.0->tensorflow) (1.5.2)\n",
            "Requirement already satisfied: google-auth<3,>=1.6.3 in /usr/local/lib/python3.7/dist-packages (from tensorboard<2.9,>=2.8->tensorflow) (1.35.0)\n",
            "Requirement already satisfied: werkzeug>=0.11.15 in /usr/local/lib/python3.7/dist-packages (from tensorboard<2.9,>=2.8->tensorflow) (1.0.1)\n",
            "Requirement already satisfied: markdown>=2.6.8 in /usr/local/lib/python3.7/dist-packages (from tensorboard<2.9,>=2.8->tensorflow) (3.4.1)\n",
            "Requirement already satisfied: requests<3,>=2.21.0 in /usr/local/lib/python3.7/dist-packages (from tensorboard<2.9,>=2.8->tensorflow) (2.23.0)\n",
            "Requirement already satisfied: google-auth-oauthlib<0.5,>=0.4.1 in /usr/local/lib/python3.7/dist-packages (from tensorboard<2.9,>=2.8->tensorflow) (0.4.6)\n",
            "Requirement already satisfied: tensorboard-plugin-wit>=1.6.0 in /usr/local/lib/python3.7/dist-packages (from tensorboard<2.9,>=2.8->tensorflow) (1.8.1)\n",
            "Requirement already satisfied: tensorboard-data-server<0.7.0,>=0.6.0 in /usr/local/lib/python3.7/dist-packages (from tensorboard<2.9,>=2.8->tensorflow) (0.6.1)\n",
            "Requirement already satisfied: rsa<5,>=3.1.4 in /usr/local/lib/python3.7/dist-packages (from google-auth<3,>=1.6.3->tensorboard<2.9,>=2.8->tensorflow) (4.8)\n",
            "Requirement already satisfied: cachetools<5.0,>=2.0.0 in /usr/local/lib/python3.7/dist-packages (from google-auth<3,>=1.6.3->tensorboard<2.9,>=2.8->tensorflow) (4.2.4)\n",
            "Requirement already satisfied: pyasn1-modules>=0.2.1 in /usr/local/lib/python3.7/dist-packages (from google-auth<3,>=1.6.3->tensorboard<2.9,>=2.8->tensorflow) (0.2.8)\n",
            "Requirement already satisfied: requests-oauthlib>=0.7.0 in /usr/local/lib/python3.7/dist-packages (from google-auth-oauthlib<0.5,>=0.4.1->tensorboard<2.9,>=2.8->tensorflow) (1.3.1)\n",
            "Requirement already satisfied: importlib-metadata>=4.4 in /usr/local/lib/python3.7/dist-packages (from markdown>=2.6.8->tensorboard<2.9,>=2.8->tensorflow) (4.12.0)\n",
            "Requirement already satisfied: zipp>=0.5 in /usr/local/lib/python3.7/dist-packages (from importlib-metadata>=4.4->markdown>=2.6.8->tensorboard<2.9,>=2.8->tensorflow) (3.8.1)\n",
            "Requirement already satisfied: pyasn1<0.5.0,>=0.4.6 in /usr/local/lib/python3.7/dist-packages (from pyasn1-modules>=0.2.1->google-auth<3,>=1.6.3->tensorboard<2.9,>=2.8->tensorflow) (0.4.8)\n",
            "Requirement already satisfied: chardet<4,>=3.0.2 in /usr/local/lib/python3.7/dist-packages (from requests<3,>=2.21.0->tensorboard<2.9,>=2.8->tensorflow) (3.0.4)\n",
            "Requirement already satisfied: idna<3,>=2.5 in /usr/local/lib/python3.7/dist-packages (from requests<3,>=2.21.0->tensorboard<2.9,>=2.8->tensorflow) (2.10)\n",
            "Requirement already satisfied: certifi>=2017.4.17 in /usr/local/lib/python3.7/dist-packages (from requests<3,>=2.21.0->tensorboard<2.9,>=2.8->tensorflow) (2022.6.15)\n",
            "Requirement already satisfied: urllib3!=1.25.0,!=1.25.1,<1.26,>=1.21.1 in /usr/local/lib/python3.7/dist-packages (from requests<3,>=2.21.0->tensorboard<2.9,>=2.8->tensorflow) (1.24.3)\n",
            "Requirement already satisfied: oauthlib>=3.0.0 in /usr/local/lib/python3.7/dist-packages (from requests-oauthlib>=0.7.0->google-auth-oauthlib<0.5,>=0.4.1->tensorboard<2.9,>=2.8->tensorflow) (3.2.0)\n"
          ]
        }
      ],
      "source": [
        "pip install tensorflow"
      ]
    },
    {
      "cell_type": "code",
      "execution_count": 4,
      "id": "6f80d4b7",
      "metadata": {
        "id": "6f80d4b7"
      },
      "outputs": [],
      "source": [
        "import numpy as np\n",
        "#import tensorflow as tf\n",
        "import matplotlib.pyplot as plt\n",
        "import os\n",
        "import cv2\n",
        "from tensorflow.keras.preprocessing.image import ImageDataGenerator\n",
        "from tensorflow.keras.models import Sequential\n",
        "from tensorflow.keras.layers import Dense, Dropout, Activation, Flatten\n",
        "from tensorflow.keras.layers import Conv2D, MaxPooling2D, AveragePooling2D\n",
        "from tensorflow.keras.callbacks import TensorBoard\n",
        "from tqdm import tqdm\n",
        "import pickle\n",
        "#import time \n",
        "\n",
        "import tensorflow as tf\n",
        "\n",
        "import keras\n",
        "from google.colab import drive"
      ]
    },
    {
      "cell_type": "markdown",
      "source": [
        "#Mounting the google drive to the colab "
      ],
      "metadata": {
        "id": "gZmDTV8nN7yA"
      },
      "id": "gZmDTV8nN7yA"
    },
    {
      "cell_type": "code",
      "source": [
        "from google.colab import drive\n",
        "drive.mount('/content/drive')"
      ],
      "metadata": {
        "colab": {
          "base_uri": "https://localhost:8080/"
        },
        "id": "WWTPJyaBOJgW",
        "outputId": "ea0f6612-cbe4-49b7-c188-880917c1bc64"
      },
      "id": "WWTPJyaBOJgW",
      "execution_count": 5,
      "outputs": [
        {
          "output_type": "stream",
          "name": "stdout",
          "text": [
            "Drive already mounted at /content/drive; to attempt to forcibly remount, call drive.mount(\"/content/drive\", force_remount=True).\n"
          ]
        }
      ]
    },
    {
      "cell_type": "markdown",
      "source": [
        "#Creating the Training dataset"
      ],
      "metadata": {
        "id": "ryANXCN8M4uI"
      },
      "id": "ryANXCN8M4uI"
    },
    {
      "cell_type": "code",
      "execution_count": 6,
      "id": "479bdcb1",
      "metadata": {
        "id": "479bdcb1",
        "outputId": "911f6336-9d99-44ac-b47a-48df9351911a",
        "colab": {
          "base_uri": "https://localhost:8080/"
        }
      },
      "outputs": [
        {
          "output_type": "stream",
          "name": "stderr",
          "text": [
            "100%|██████████| 105/105 [00:10<00:00, 10.16it/s]\n",
            "100%|██████████| 105/105 [00:13<00:00,  7.76it/s]\n",
            "100%|██████████| 105/105 [00:13<00:00,  7.57it/s]\n",
            "100%|██████████| 105/105 [00:13<00:00,  7.83it/s]"
          ]
        },
        {
          "output_type": "stream",
          "name": "stdout",
          "text": [
            "420\n"
          ]
        },
        {
          "output_type": "stream",
          "name": "stderr",
          "text": [
            "\n"
          ]
        }
      ],
      "source": [
        "training_data =[]\n",
        "src_path= \"/content/drive/MyDrive/Dataset/leaves\"\n",
        "subclass=os.listdir(src_path)\n",
        "def create_training_data():\n",
        "    for sclass in subclass:\n",
        "        path=os.path.join(src_path,sclass)\n",
        "        class_num=subclass.index(sclass)\n",
        "        for img in tqdm(os.listdir(path)):\n",
        "            img_array=cv2.imread(os.path.join(path,img),cv2.IMREAD_GRAYSCALE)\n",
        "            new_array=cv2.resize(img_array, (224,224))\n",
        "            training_data.append([new_array,class_num])\n",
        "            \n",
        "create_training_data()\n",
        "print(len(training_data))"
      ]
    },
    {
      "cell_type": "code",
      "execution_count": 7,
      "id": "ae4362a6",
      "metadata": {
        "id": "ae4362a6",
        "outputId": "5d62a937-4038-47f9-bb27-d55cceba18cf",
        "colab": {
          "base_uri": "https://localhost:8080/"
        }
      },
      "outputs": [
        {
          "output_type": "stream",
          "name": "stdout",
          "text": [
            "[[[251]\n",
            "  [251]\n",
            "  [251]\n",
            "  ...\n",
            "  [253]\n",
            "  [251]\n",
            "  [252]]\n",
            "\n",
            " [[252]\n",
            "  [251]\n",
            "  [251]\n",
            "  ...\n",
            "  [253]\n",
            "  [251]\n",
            "  [252]]\n",
            "\n",
            " [[251]\n",
            "  [252]\n",
            "  [251]\n",
            "  ...\n",
            "  [253]\n",
            "  [251]\n",
            "  [251]]\n",
            "\n",
            " ...\n",
            "\n",
            " [[251]\n",
            "  [251]\n",
            "  [249]\n",
            "  ...\n",
            "  [252]\n",
            "  [249]\n",
            "  [249]]\n",
            "\n",
            " [[251]\n",
            "  [250]\n",
            "  [248]\n",
            "  ...\n",
            "  [251]\n",
            "  [249]\n",
            "  [249]]\n",
            "\n",
            " [[251]\n",
            "  [250]\n",
            "  [251]\n",
            "  ...\n",
            "  [251]\n",
            "  [248]\n",
            "  [249]]]\n"
          ]
        }
      ],
      "source": [
        "X=[]\n",
        "y=[]\n",
        "\n",
        "for features,label in training_data:\n",
        "    X.append(features)\n",
        "    y.append(label)\n",
        "\n",
        "X=np.array(X).reshape(-1,224,224,1)\n",
        "print(X[0])"
      ]
    },
    {
      "cell_type": "markdown",
      "source": [
        "# Preprocessing data and pickling them for future use "
      ],
      "metadata": {
        "id": "dYHugadwMwSA"
      },
      "id": "dYHugadwMwSA"
    },
    {
      "cell_type": "code",
      "execution_count": 8,
      "id": "933c4c51",
      "metadata": {
        "id": "933c4c51"
      },
      "outputs": [],
      "source": [
        "import pickle \n",
        "pickle_out = open(\"X_Augumented_Grayscale\",\"wb\")\n",
        "pickle.dump(X, pickle_out)\n",
        "pickle_out.close()\n",
        "\n",
        "pickle_out = open(\"y_Augumented_Grayscale\",\"wb\")\n",
        "pickle.dump(y, pickle_out)\n",
        "pickle_out.close()"
      ]
    },
    {
      "cell_type": "markdown",
      "source": [
        "#CNN model\n"
      ],
      "metadata": {
        "id": "bkPc2hUdMpEj"
      },
      "id": "bkPc2hUdMpEj"
    },
    {
      "cell_type": "code",
      "execution_count": 9,
      "id": "4cd9cd29",
      "metadata": {
        "id": "4cd9cd29"
      },
      "outputs": [],
      "source": [
        "#pip install tf-nightly --user"
      ]
    },
    {
      "cell_type": "code",
      "execution_count": 10,
      "id": "9f2fdcd6",
      "metadata": {
        "id": "9f2fdcd6",
        "outputId": "d0ad130d-fb95-4aa4-d3f5-54316ada8193",
        "colab": {
          "base_uri": "https://localhost:8080/"
        }
      },
      "outputs": [
        {
          "output_type": "stream",
          "name": "stdout",
          "text": [
            "Epoch 1/10\n",
            "336/336 [==============================] - 14s 39ms/step - loss: 1.2567 - accuracy: 0.4702 - val_loss: 3.5894 - val_accuracy: 0.0000e+00\n",
            "Epoch 2/10\n",
            "336/336 [==============================] - 15s 43ms/step - loss: 0.7028 - accuracy: 0.6696 - val_loss: 0.8726 - val_accuracy: 0.6905\n",
            "Epoch 3/10\n",
            "336/336 [==============================] - 12s 37ms/step - loss: 0.4434 - accuracy: 0.8125 - val_loss: 1.1194 - val_accuracy: 0.6786\n",
            "Epoch 4/10\n",
            "336/336 [==============================] - 12s 37ms/step - loss: 0.3368 - accuracy: 0.8423 - val_loss: 1.3205 - val_accuracy: 0.6786\n",
            "Epoch 5/10\n",
            "336/336 [==============================] - 12s 35ms/step - loss: 0.2661 - accuracy: 0.8899 - val_loss: 1.4826 - val_accuracy: 0.6905\n",
            "Epoch 6/10\n",
            "336/336 [==============================] - 12s 35ms/step - loss: 0.2434 - accuracy: 0.8988 - val_loss: 1.5975 - val_accuracy: 0.6786\n",
            "Epoch 7/10\n",
            "336/336 [==============================] - 12s 35ms/step - loss: 0.1866 - accuracy: 0.9196 - val_loss: 1.0163 - val_accuracy: 0.7857\n",
            "Epoch 8/10\n",
            "336/336 [==============================] - 12s 34ms/step - loss: 0.1783 - accuracy: 0.9315 - val_loss: 1.2359 - val_accuracy: 0.7381\n",
            "Epoch 9/10\n",
            "336/336 [==============================] - 12s 35ms/step - loss: 0.1082 - accuracy: 0.9583 - val_loss: 1.3125 - val_accuracy: 0.6905\n",
            "Epoch 10/10\n",
            "336/336 [==============================] - 12s 35ms/step - loss: 0.1021 - accuracy: 0.9673 - val_loss: 1.6982 - val_accuracy: 0.7143\n"
          ]
        }
      ],
      "source": [
        "import tensorflow as tf\n",
        "\n",
        "import keras\n",
        "\n",
        "pickle_in = open(\"X_Augumented_Grayscale\",\"rb\")\n",
        "X = pickle.load(pickle_in)\n",
        "\n",
        "pickle_in = open(\"y_Augumented_Grayscale\",\"rb\")\n",
        "y = pickle.load(pickle_in)\n",
        "\n",
        "X = X/255.0\n",
        "NAME=\"Model_2\"\n",
        "\n",
        "model=Sequential()\n",
        "\n",
        "model.add(Conv2D(100,(5,5),padding=\"same\",strides=(2,2),activation=\"relu\", input_shape=X.shape[1:]))\n",
        "model.add(MaxPooling2D(pool_size=(5,5),strides=(5,5)))\n",
        "model.add(Dropout(0.2))\n",
        "model.add(Conv2D(250,(5,5),padding=\"same\",strides=(2,2),activation=\"relu\"))\n",
        "model.add(MaxPooling2D(pool_size=(5,5),strides=(2,2)))\n",
        "model.add(Dropout(0.5))\n",
        "model.add(Flatten())\n",
        "model.add(Dense(15))\n",
        "model.add(Activation('softmax'))\n",
        "\n",
        "tensorboard= TensorBoard(log_dir=\"logs\\\\{}\".format(NAME))\n",
        "X=np.array(X)\n",
        "y=np.array(y)\n",
        "model.compile(loss='sparse_categorical_crossentropy',\n",
        "             optimizer='adam',\n",
        "             metrics=['accuracy'])\n",
        "\n",
        "history = model.fit(X,y,epochs=10,batch_size=1,validation_split=0.2,callbacks=[tensorboard])\n"
      ]
    },
    {
      "cell_type": "code",
      "execution_count": 11,
      "id": "d6b8324e",
      "metadata": {
        "id": "d6b8324e",
        "colab": {
          "base_uri": "https://localhost:8080/"
        },
        "outputId": "52053c46-19b2-4843-9bde-25ffa2b35916"
      },
      "outputs": [
        {
          "output_type": "stream",
          "name": "stdout",
          "text": [
            "Model: \"sequential\"\n",
            "_________________________________________________________________\n",
            " Layer (type)                Output Shape              Param #   \n",
            "=================================================================\n",
            " conv2d (Conv2D)             (None, 112, 112, 100)     2600      \n",
            "                                                                 \n",
            " max_pooling2d (MaxPooling2D  (None, 22, 22, 100)      0         \n",
            " )                                                               \n",
            "                                                                 \n",
            " dropout (Dropout)           (None, 22, 22, 100)       0         \n",
            "                                                                 \n",
            " conv2d_1 (Conv2D)           (None, 11, 11, 250)       625250    \n",
            "                                                                 \n",
            " max_pooling2d_1 (MaxPooling  (None, 4, 4, 250)        0         \n",
            " 2D)                                                             \n",
            "                                                                 \n",
            " dropout_1 (Dropout)         (None, 4, 4, 250)         0         \n",
            "                                                                 \n",
            " flatten (Flatten)           (None, 4000)              0         \n",
            "                                                                 \n",
            " dense (Dense)               (None, 15)                60015     \n",
            "                                                                 \n",
            " activation (Activation)     (None, 15)                0         \n",
            "                                                                 \n",
            "=================================================================\n",
            "Total params: 687,865\n",
            "Trainable params: 687,865\n",
            "Non-trainable params: 0\n",
            "_________________________________________________________________\n"
          ]
        }
      ],
      "source": [
        "model.summary()"
      ]
    },
    {
      "cell_type": "markdown",
      "source": [
        "#Saving the model"
      ],
      "metadata": {
        "id": "sMp4_gtBMhFo"
      },
      "id": "sMp4_gtBMhFo"
    },
    {
      "cell_type": "code",
      "execution_count": 12,
      "id": "da5f4082",
      "metadata": {
        "id": "da5f4082",
        "colab": {
          "base_uri": "https://localhost:8080/"
        },
        "outputId": "36f9c836-a4b4-48ca-8230-45849f96e31b"
      },
      "outputs": [
        {
          "output_type": "stream",
          "name": "stdout",
          "text": [
            "INFO:tensorflow:Assets written to: /content/drive/MyDrive/Dataset/CNN_model/assets\n"
          ]
        }
      ],
      "source": [
        "model.save(\"/content/drive/MyDrive/Dataset/mod./CNN_model\")"
      ]
    },
    {
      "cell_type": "code",
      "execution_count": 13,
      "id": "40fdd35f",
      "metadata": {
        "id": "40fdd35f"
      },
      "outputs": [],
      "source": [
        "model.save(\"/content/drive/MyDrive/Dataset/mod./CNN_h5_model.h5\")"
      ]
    },
    {
      "cell_type": "code",
      "execution_count": 14,
      "id": "bca7fba1",
      "metadata": {
        "id": "bca7fba1"
      },
      "outputs": [],
      "source": [
        "# pick = open(\"model_pickel\",\"wb\")\n",
        "# pickle.dump(history, pick)\n",
        "# pick.close()"
      ]
    },
    {
      "cell_type": "markdown",
      "source": [
        "#Testing predictions on model\n"
      ],
      "metadata": {
        "id": "En7YqemJMUv1"
      },
      "id": "En7YqemJMUv1"
    },
    {
      "cell_type": "code",
      "execution_count": 27,
      "id": "131aa152",
      "metadata": {
        "id": "131aa152"
      },
      "outputs": [],
      "source": [
        "model = keras.models.load_model(\"/content/drive/MyDrive/Dataset/mod/CNN_h5_model.h5\")"
      ]
    },
    {
      "cell_type": "code",
      "execution_count": 28,
      "id": "161a5077",
      "metadata": {
        "id": "161a5077"
      },
      "outputs": [],
      "source": [
        "from tensorflow.keras.preprocessing import image\n",
        "\n",
        "def prediction(img):\n",
        "    img = image.img_to_array(img)\n",
        "    img = img.reshape(-1, 224, 224, 1)\n",
        "    img = img.astype('float32')\n",
        "    img = img/255.0\n",
        "    \n",
        "    return np.argmax(model.predict(img),axis=-1)[0]"
      ]
    },
    {
      "cell_type": "code",
      "execution_count": 29,
      "id": "d4881c83",
      "metadata": {
        "id": "d4881c83"
      },
      "outputs": [],
      "source": [
        "labels=[\"Ulmus Carpinifolia\",\"Eucalyptus Globulus\", \"Populus Tremula(Aspen)\", \"Ulmus Glabra\"]"
      ]
    },
    {
      "cell_type": "code",
      "source": [
        "path = \"/content/drive/MyDrive/Dataset/leaves/leaf7/l7nr018.tif\"\n",
        "img = image.load_img(path,target_size=(224,224),color_mode=\"grayscale\")"
      ],
      "metadata": {
        "id": "GDWKbtGoLeQl"
      },
      "id": "GDWKbtGoLeQl",
      "execution_count": 30,
      "outputs": []
    },
    {
      "cell_type": "markdown",
      "source": [
        "#Input image"
      ],
      "metadata": {
        "id": "8fzr02MqR4VH"
      },
      "id": "8fzr02MqR4VH"
    },
    {
      "cell_type": "code",
      "source": [
        "print(\"Input image:\")\n",
        "\n",
        "img_path=cv2.imread(path)\n",
        "plt.imshow(img_path, cmap='gray')\n",
        "plt.show()\n"
      ],
      "metadata": {
        "colab": {
          "base_uri": "https://localhost:8080/",
          "height": 286
        },
        "id": "TNPEKybrNaxl",
        "outputId": "d26fc886-9774-4f35-9b74-bcf88637b6d3"
      },
      "id": "TNPEKybrNaxl",
      "execution_count": 31,
      "outputs": [
        {
          "output_type": "stream",
          "name": "stdout",
          "text": [
            "Input image:\n"
          ]
        },
        {
          "output_type": "display_data",
          "data": {
            "text/plain": [
              "<Figure size 432x288 with 1 Axes>"
            ],
            "image/png": "[encoded data removed]"
          },
          "metadata": {
            "needs_background": "light"
          }
        }
      ]
    },
    {
      "cell_type": "markdown",
      "source": [
        "#Output and the matched image"
      ],
      "metadata": {
        "id": "LlikYIo6R9-t"
      },
      "id": "LlikYIo6R9-t"
    },
    {
      "cell_type": "code",
      "source": [
        "print(\"Actual Matched image:\")\n",
        "\n",
        "res_path=cv2.imread(\"/content/drive/MyDrive/Dataset/\"+labels[prediction(img)]+\".tif\")\n",
        "plt.imshow(res_path, cmap='gray')\n",
        "plt.show()\n",
        "\n",
        "print(labels[prediction(img)])"
      ],
      "metadata": {
        "colab": {
          "base_uri": "https://localhost:8080/",
          "height": 304
        },
        "id": "iwBcEg5pLidH",
        "outputId": "1dc60275-286e-4cc3-fff6-b0191b264e7b"
      },
      "id": "iwBcEg5pLidH",
      "execution_count": 32,
      "outputs": [
        {
          "output_type": "stream",
          "name": "stdout",
          "text": [
            "Actual Matched image:\n"
          ]
        },
        {
          "output_type": "display_data",
          "data": {
            "text/plain": [
              "<Figure size 432x288 with 1 Axes>"
            ],
            "image/png": "[encoded data removed]"
          },
          "metadata": {
            "needs_background": "light"
          }
        },
        {
          "output_type": "stream",
          "name": "stdout",
          "text": [
            "Eucalyptus Globulus\n"
          ]
        }
      ]
    }
  ],
  "metadata": {
    "kernelspec": {
      "display_name": "Python 3",
      "language": "python",
      "name": "python3"
    },
    "language_info": {
      "codemirror_mode": {
        "name": "ipython",
        "version": 3
      },
      "file_extension": ".py",
      "mimetype": "text/x-python",
      "name": "python",
      "nbconvert_exporter": "python",
      "pygments_lexer": "ipython3",
      "version": "3.8.8"
    },
    "colab": {
      "name": "Cnn_model (2).ipynb",
      "provenance": []
    }
  },
  "nbformat": 4,
  "nbformat_minor": 5
}