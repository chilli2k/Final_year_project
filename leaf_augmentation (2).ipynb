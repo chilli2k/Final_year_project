{
  "cells": [
    {
      "cell_type": "code",
      "source": [
        "pip install augmentor"
      ],
      "metadata": {
        "colab": {
          "base_uri": "https://localhost:8080/"
        },
        "id": "72SCXEbfTka_",
        "outputId": "c8941ecb-e427-4140-f832-3620a932bfb6"
      },
      "id": "72SCXEbfTka_",
      "execution_count": null,
      "outputs": [
        {
          "output_type": "stream",
          "name": "stdout",
          "text": [
            "Looking in indexes: https://pypi.org/simple, https://us-python.pkg.dev/colab-wheels/public/simple/\n",
            "Collecting augmentor\n",
            "  Downloading Augmentor-0.2.10-py2.py3-none-any.whl (38 kB)\n",
            "Requirement already satisfied: Pillow>=5.2.0 in /usr/local/lib/python3.7/dist-packages (from augmentor) (7.1.2)\n",
            "Requirement already satisfied: tqdm>=4.9.0 in /usr/local/lib/python3.7/dist-packages (from augmentor) (4.64.0)\n",
            "Requirement already satisfied: numpy>=1.11.0 in /usr/local/lib/python3.7/dist-packages (from augmentor) (1.21.6)\n",
            "Requirement already satisfied: future>=0.16.0 in /usr/local/lib/python3.7/dist-packages (from augmentor) (0.16.0)\n",
            "Installing collected packages: augmentor\n",
            "Successfully installed augmentor-0.2.10\n"
          ]
        }
      ]
    },
    {
      "cell_type": "code",
      "execution_count": null,
      "id": "a187df38",
      "metadata": {
        "id": "a187df38"
      },
      "outputs": [],
      "source": [
        "import Augmentor\n",
        "import numpy as np\n",
        "import os\n",
        "import glob\n",
        "import random\n",
        "import collections\n",
        "from PIL import Image\n",
        "import keras\n",
        "from keras.models import Sequential\n",
        "from keras.layers import Dense, Dropout, Flatten\n",
        "from keras.layers import Conv2D, MaxPooling2D\n",
        "import matplotlib.pyplot as plt\n",
        "from google.colab import drive"
      ]
    },
    {
      "cell_type": "code",
      "source": [
        "drive.mount('/content/drive')\n",
        "!ls /content/drive/"
      ],
      "metadata": {
        "colab": {
          "base_uri": "https://localhost:8080/"
        },
        "id": "sclFrDPMTIM4",
        "outputId": "08ca98c7-d36a-4fe0-809e-556998d88e5c"
      },
      "id": "sclFrDPMTIM4",
      "execution_count": null,
      "outputs": [
        {
          "output_type": "stream",
          "name": "stdout",
          "text": [
            "Mounted at /content/drive\n",
            "MyDrive\n"
          ]
        }
      ]
    },
    {
      "cell_type": "code",
      "execution_count": null,
      "id": "7678a320",
      "metadata": {
        "id": "7678a320",
        "colab": {
          "base_uri": "https://localhost:8080/"
        },
        "outputId": "ca627207-3478-4751-97f5-749ab7289725"
      },
      "outputs": [
        {
          "output_type": "stream",
          "name": "stdout",
          "text": [
            "Folders (classes) found: ['leaf1', 'leaf7'] \n"
          ]
        }
      ],
      "source": [
        "root_directory = \"/content/drive/MyDrive/datset/*\"\n",
        "\n",
        "folders = []\n",
        "\n",
        "for f in glob.glob(root_directory):\n",
        "    \n",
        "    if os.path.isdir(f):\n",
        "        \n",
        "        folders.append(os.path.abspath(f))\n",
        "        \n",
        "\n",
        "print(\"Folders (classes) found: %s \" % [os.path.split(x)[1] for x in folders])"
      ]
    },
    {
      "cell_type": "code",
      "execution_count": null,
      "id": "6b8c674e",
      "metadata": {
        "id": "6b8c674e",
        "outputId": "c3f8f988-3342-4a0e-859d-5abe3d4c17cc",
        "colab": {
          "base_uri": "https://localhost:8080/"
        }
      },
      "outputs": [
        {
          "output_type": "stream",
          "name": "stdout",
          "text": [
            "Folder /content/drive/MyDrive/datset/leaf1:\n",
            "Initialised with 34 image(s) found.\n",
            "Output directory set to /content/drive/MyDrive/datset/leaf1/output.\n",
            "----------------------------\n",
            "\n",
            "Folder /content/drive/MyDrive/datset/leaf7:\n",
            "Initialised with 30 image(s) found.\n",
            "Output directory set to /content/drive/MyDrive/datset/leaf7/output.\n",
            "----------------------------\n",
            "\n",
            "Class leaf1 has 34 samples.\n",
            "Class leaf7 has 30 samples.\n"
          ]
        },
        {
          "output_type": "execute_result",
          "data": {
            "text/plain": [
              "{'leaf1': <Augmentor.Pipeline.Pipeline at 0x7fc8e2fa0290>,\n",
              " 'leaf7': <Augmentor.Pipeline.Pipeline at 0x7fc8e2f37e50>}"
            ]
          },
          "metadata": {},
          "execution_count": 10
        }
      ],
      "source": [
        "pipelines = {}\n",
        "for folder in folders:\n",
        "    print(\"Folder %s:\" % (folder))\n",
        "    pipelines[os.path.split(folder)[1]] = (Augmentor.Pipeline(folder))\n",
        "    print(\"\\n----------------------------\\n\")\n",
        "\n",
        "for p in pipelines.values():\n",
        "    print(\"Class %s has %s samples.\" % (p.augmentor_images[0].class_label, len(p.augmentor_images)))\n",
        "    \n",
        "pipelines "
      ]
    },
    {
      "cell_type": "code",
      "execution_count": null,
      "id": "6d87c2ca",
      "metadata": {
        "id": "6d87c2ca",
        "outputId": "2c5383f9-14a8-4cfa-89ef-e85aca83d96b",
        "colab": {
          "base_uri": "https://localhost:8080/"
        }
      },
      "outputs": [
        {
          "output_type": "execute_result",
          "data": {
            "text/plain": [
              "<generator object multi_generator at 0x7fbc4cd1b250>"
            ]
          },
          "metadata": {},
          "execution_count": 5
        }
      ],
      "source": [
        "for pipeline in pipelines.values():\n",
        "    pipeline.rotate(probability=0.75, max_left_rotation=10, max_right_rotation=10)\n",
        "    pipeline.flip_left_right(probability=0.8)\n",
        "    pipeline.skew(probability=0.4)\n",
        "    pipeline.random_distortion(probability=0.5, grid_width=3, grid_height=7,magnitude=2)\n",
        "    pipeline.crop_centre(probability=0.1,percentage_area=0.8)\n",
        "    pipeline.sample(33)\n",
        "\n",
        "integer_labels = {\n",
        "    'leaf1': 0,\n",
        "    'leaf7': 1,\n",
        "    'leaf8': 2,\n",
        "    'leaf9': 3,\n",
        "}\n",
        "\n",
        "PipelineContainer = collections.namedtuple(\n",
        "    'PipelineContainer',\n",
        "    'label label_integer label_categorical pipeline generator'\n",
        ")\n",
        "\n",
        "pipeline_containers = []\n",
        "\n",
        "for label, pipeline in pipelines.items():\n",
        "    label_categorical = np.zeros(len(pipelines), dtype=np.int)\n",
        "    label_categorical[integer_labels[label]] = 1\n",
        "    pipeline_containers.append(\n",
        "        PipelineContainer(\n",
        "            label,\n",
        "            integer_labels[label],\n",
        "            label_categorical,\n",
        "            pipeline,\n",
        "            pipeline.keras_generator(batch_size=1)\n",
        "        )\n",
        "    )\n",
        "\n",
        "\n",
        "\n",
        "def multi_generator(pipeline_containers, batch_size):\n",
        "    X = []\n",
        "    y = []\n",
        "    for i in range(batch_size):\n",
        "        pipeline_container = random.choice(pipeline_containers)\n",
        "        image, _ = next(pipeline_container.generator)\n",
        "        image = image.reshape((224,224,3)) # Or (1, 28, 28) for channels_first, see Keras' docs.\n",
        "        X.append(image)\n",
        "        y.append(pipeline_container.label_categorical) # Or label_integer if required by network\n",
        "        X = np.asarray(X)\n",
        "        y = np.asarray(y)\n",
        "    yield X, y\n",
        "            \n",
        "multi_generator(pipeline_containers,1)"
      ]
    },
    {
      "cell_type": "code",
      "source": [
        ""
      ],
      "metadata": {
        "id": "LLyc6BwqB129"
      },
      "id": "LLyc6BwqB129",
      "execution_count": null,
      "outputs": []
    }
  ],
  "metadata": {
    "kernelspec": {
      "display_name": "Python 3 (ipykernel)",
      "language": "python",
      "name": "python3"
    },
    "language_info": {
      "codemirror_mode": {
        "name": "ipython",
        "version": 3
      },
      "file_extension": ".py",
      "mimetype": "text/x-python",
      "name": "python",
      "nbconvert_exporter": "python",
      "pygments_lexer": "ipython3",
      "version": "3.10.0"
    },
    "colab": {
      "name": "leaf_augmentation.ipynb",
      "provenance": []
    }
  },
  "nbformat": 4,
  "nbformat_minor": 5
}